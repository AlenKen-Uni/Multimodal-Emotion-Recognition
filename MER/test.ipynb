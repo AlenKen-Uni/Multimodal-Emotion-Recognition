{
 "cells": [
  {
   "cell_type": "code",
   "execution_count": 1,
   "id": "90927512",
   "metadata": {},
   "outputs": [],
   "source": [
    "import utils"
   ]
  },
  {
   "cell_type": "code",
   "execution_count": 1,
   "id": "f1a2746f",
   "metadata": {},
   "outputs": [
    {
     "name": "stdout",
     "output_type": "stream",
     "text": [
      "File deploy.prototxt already exists in d:\\Master_degree\\Thesis\\python\\MER. Skipping download.\n",
      "File res10_300x300_ssd_iter_140000.caffemodel already exists in d:\\Master_degree\\Thesis\\python\\MER. Skipping download.\n",
      "(164, 40)\n"
     ]
    }
   ],
   "source": [
    "from utils import *\n",
    "waveform = audio_processor.split_audio_from_video(\n",
    "    r\"D:\\Master_degree\\Thesis\\python\\database\\ravdess\\video\\Actor_01\\01-01-01-01-01-01-01.mp4\", \n",
    "    sr=16000\n",
    ")\n",
    "truncated_waveform = audio_processor.truncate_waveform(waveform)\n",
    "h_feat = audio_processor.handcrafted_feature_extractor(truncated_waveform)\n",
    "print(h_feat.shape)"
   ]
  },
  {
   "cell_type": "code",
   "execution_count": 2,
   "id": "8ac59cb0",
   "metadata": {},
   "outputs": [],
   "source": [
    "from transformers import Wav2Vec2Model"
   ]
  },
  {
   "cell_type": "code",
   "execution_count": null,
   "id": "5b4bd5f4",
   "metadata": {},
   "outputs": [],
   "source": [
    "import ser_model.py"
   ]
  }
 ],
 "metadata": {
  "kernelspec": {
   "display_name": "thesis_venv (3.11.3)",
   "language": "python",
   "name": "python3"
  },
  "language_info": {
   "codemirror_mode": {
    "name": "ipython",
    "version": 3
   },
   "file_extension": ".py",
   "mimetype": "text/x-python",
   "name": "python",
   "nbconvert_exporter": "python",
   "pygments_lexer": "ipython3",
   "version": "3.11.3"
  }
 },
 "nbformat": 4,
 "nbformat_minor": 5
}
